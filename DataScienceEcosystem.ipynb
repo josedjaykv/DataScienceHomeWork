{
 "cells": [
  {
   "cell_type": "markdown",
   "id": "7d0151c4-5d45-4ee1-a1cc-92539b76abf7",
   "metadata": {},
   "source": [
    "# Data Science Tools and Ecosystem"
   ]
  },
  {
   "cell_type": "markdown",
   "id": "381c7bf7-8f5e-4645-9edc-3949e10690b3",
   "metadata": {},
   "source": [
    "### In this notebook, Data Science Tools and Ecosystem are summarized."
   ]
  },
  {
   "cell_type": "markdown",
   "id": "ee5e3632-b282-42ae-ae54-db84ba99b934",
   "metadata": {},
   "source": [
    "**Objectives:**\n",
    "* List popular languages for Data Science"
   ]
  },
  {
   "cell_type": "markdown",
   "id": "bb57c79f-2bdb-4719-a3db-10faca7c0812",
   "metadata": {},
   "source": [
    "##### Some of the popular languages that Data Scientists use are:\n",
    "\n",
    "1. Python\n",
    "2. R\n",
    "3. SQL\n",
    "4. Java\n",
    "5. Julia"
   ]
  },
  {
   "cell_type": "markdown",
   "id": "6917eb42-934e-4d07-876f-064d7dc3f635",
   "metadata": {},
   "source": [
    "##### Some of the commonly used libraries used by Data Scientists include:\n",
    "\n",
    "1. Pandas\n",
    "2. Seaborn\n",
    "3. Numpy"
   ]
  },
  {
   "cell_type": "markdown",
   "id": "b7a07684-262f-45c0-a136-888caeeefb9b",
   "metadata": {},
   "source": [
    "|Data Science Tools|\n",
    "--------------------\n",
    "|Jupyter|\n",
    "|RStudio|\n",
    "|TensorFlow.js|"
   ]
  },
  {
   "cell_type": "markdown",
   "id": "f50782cd-c095-4da2-a559-ea0f6ddf0f28",
   "metadata": {},
   "source": [
    "### Below are a few examples of evaluating arithmetic expressions in Python"
   ]
  },
  {
   "cell_type": "code",
   "execution_count": 2,
   "id": "656c67b5-ff8a-48ab-b1ce-7acea2c4059f",
   "metadata": {},
   "outputs": [
    {
     "data": {
      "text/plain": [
       "17"
      ]
     },
     "execution_count": 2,
     "metadata": {},
     "output_type": "execute_result"
    }
   ],
   "source": [
    "# This a simple arithmetic expression to mutiply then add integers\n",
    "(3*4)+5"
   ]
  },
  {
   "cell_type": "code",
   "execution_count": 3,
   "id": "78db1801-f780-4e89-b8c1-9836e2376baf",
   "metadata": {},
   "outputs": [
    {
     "name": "stdout",
     "output_type": "stream",
     "text": [
      "3.3333333333333335\n"
     ]
    }
   ],
   "source": [
    "# This will convert 200 minutes to hours by diving by 60\n",
    "hours = 200/60\n",
    "print(hours)"
   ]
  },
  {
   "cell_type": "markdown",
   "id": "e028a1e5-1a37-415f-af71-be412ca8e729",
   "metadata": {},
   "source": [
    "## Author\n",
    "José David Jayk Vanegas author"
   ]
  },
  {
   "cell_type": "code",
   "execution_count": null,
   "id": "560a6550-1c62-43aa-92dd-e9363dfea566",
   "metadata": {},
   "outputs": [],
   "source": []
  }
 ],
 "metadata": {
  "kernelspec": {
   "display_name": "Python 3 (ipykernel)",
   "language": "python",
   "name": "python3"
  },
  "language_info": {
   "codemirror_mode": {
    "name": "ipython",
    "version": 3
   },
   "file_extension": ".py",
   "mimetype": "text/x-python",
   "name": "python",
   "nbconvert_exporter": "python",
   "pygments_lexer": "ipython3",
   "version": "3.10.9"
  }
 },
 "nbformat": 4,
 "nbformat_minor": 5
}
